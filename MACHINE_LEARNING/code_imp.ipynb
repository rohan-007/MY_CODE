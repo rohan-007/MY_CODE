{
 "cells": [
  {
   "cell_type": "code",
   "execution_count": null,
   "metadata": {},
   "outputs": [],
   "source": [
    "# TO MERGE MULTIPLE BINARY CLOUMNS\n",
    "r,c=data.shape\n",
    "my_data=np.array(new_data[['Species_Iris-setosa','Species_Iris-versicolor','Species_Iris-virginica']])\n",
    "my_list=[]\n",
    "a1=a2=a3=0\n",
    "for i in range(r):\n",
    "    val1=my_data[i][0]\n",
    "    val2=my_data[i][1]\n",
    "    val3=my_data[i][2]\n",
    "    if (val1==1 and val2==0 and val3==0):\n",
    "        my_list.append(1)\n",
    "    if (val1==0 and val2==1 and val3==0):\n",
    "        my_list.append(2)\n",
    "    if (val1==0 and val2==0 and val3==1):\n",
    "        my_list.append(3)\n",
    "    \n",
    "\n",
    "my_y=np.asanyarray(my_list).reshape(150,1)"
   ]
  },
  {
   "cell_type": "code",
   "execution_count": null,
   "metadata": {},
   "outputs": [],
   "source": [
    "# TO CREATE GRID\n",
    "arr1=np.linspace(1,1000,100)\n",
    "arr2=np.linspace(1,5000,100)\n",
    "xx,yy=np.meshgrid(arr1,arr2)\n",
    "print(xx.shape,yy.shape,sep='\\n')\n",
    "print(xx,yy,sep='\\n')"
   ]
  },
  {
   "cell_type": "code",
   "execution_count": null,
   "metadata": {},
   "outputs": [],
   "source": [
    "# TO PLOT GRID\n",
    "fig, ax = plt.subplots()\n",
    "\n",
    "ax.scatter(xx, yy, color=\"green\")\n",
    "ax.set_title('Regular Grid, created by Meshgrid')\n",
    "ax.set_xlabel('xx')\n",
    "ax.set_ylabel('yy')\n",
    "plt.show()"
   ]
  },
  {
   "cell_type": "code",
   "execution_count": null,
   "metadata": {},
   "outputs": [],
   "source": [
    "# TO PLOT THE FUNCTION ON CREATED GRID\n",
    "z=(xx**2)+(yy**2)\n",
    "plt.contour(xx,yy,z)"
   ]
  }
 ],
 "metadata": {
  "kernelspec": {
   "display_name": "Python 3",
   "language": "python",
   "name": "python3"
  },
  "language_info": {
   "codemirror_mode": {
    "name": "ipython",
    "version": 3
   },
   "file_extension": ".py",
   "mimetype": "text/x-python",
   "name": "python",
   "nbconvert_exporter": "python",
   "pygments_lexer": "ipython3",
   "version": "3.7.7"
  }
 },
 "nbformat": 4,
 "nbformat_minor": 4
}
