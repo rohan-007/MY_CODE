{
 "cells": [
  {
   "cell_type": "code",
   "execution_count": null,
   "metadata": {},
   "outputs": [],
   "source": [
    "# Importing modules\n",
    "import pandas as pd\n",
    "import numpy as np\n",
    "import matplotlib.pyplot as plt\n",
    "import seaborn as sb\n",
    "from math import *\n",
    "\n",
    "from sklearn import preprocessing\n",
    "from sklearn.model_selection import train_test_split\n",
    "from sklearn import linear_model\n",
    "from sklearn.metrics import jaccard_similarity_score,accuracy_score,confusion_matrix,classification_report,log_loss,precision_score,recall_score"
   ]
  },
  {
   "cell_type": "code",
   "execution_count": 10,
   "metadata": {},
   "outputs": [
    {
     "data": {
      "text/html": [
       "<div>\n",
       "<style scoped>\n",
       "    .dataframe tbody tr th:only-of-type {\n",
       "        vertical-align: middle;\n",
       "    }\n",
       "\n",
       "    .dataframe tbody tr th {\n",
       "        vertical-align: top;\n",
       "    }\n",
       "\n",
       "    .dataframe thead th {\n",
       "        text-align: right;\n",
       "    }\n",
       "</style>\n",
       "<table border=\"1\" class=\"dataframe\">\n",
       "  <thead>\n",
       "    <tr style=\"text-align: right;\">\n",
       "      <th></th>\n",
       "      <th>tenure</th>\n",
       "      <th>age</th>\n",
       "      <th>address</th>\n",
       "      <th>income</th>\n",
       "      <th>ed</th>\n",
       "      <th>employ</th>\n",
       "      <th>equip</th>\n",
       "      <th>callcard</th>\n",
       "      <th>wireless</th>\n",
       "      <th>longmon</th>\n",
       "      <th>...</th>\n",
       "      <th>pager</th>\n",
       "      <th>internet</th>\n",
       "      <th>callwait</th>\n",
       "      <th>confer</th>\n",
       "      <th>ebill</th>\n",
       "      <th>loglong</th>\n",
       "      <th>logtoll</th>\n",
       "      <th>lninc</th>\n",
       "      <th>custcat</th>\n",
       "      <th>churn</th>\n",
       "    </tr>\n",
       "  </thead>\n",
       "  <tbody>\n",
       "    <tr>\n",
       "      <th>0</th>\n",
       "      <td>11.0</td>\n",
       "      <td>33.0</td>\n",
       "      <td>7.0</td>\n",
       "      <td>136.0</td>\n",
       "      <td>5.0</td>\n",
       "      <td>5.0</td>\n",
       "      <td>0.0</td>\n",
       "      <td>1.0</td>\n",
       "      <td>1.0</td>\n",
       "      <td>4.40</td>\n",
       "      <td>...</td>\n",
       "      <td>1.0</td>\n",
       "      <td>0.0</td>\n",
       "      <td>1.0</td>\n",
       "      <td>1.0</td>\n",
       "      <td>0.0</td>\n",
       "      <td>1.482</td>\n",
       "      <td>3.033</td>\n",
       "      <td>4.913</td>\n",
       "      <td>4.0</td>\n",
       "      <td>1.0</td>\n",
       "    </tr>\n",
       "    <tr>\n",
       "      <th>1</th>\n",
       "      <td>33.0</td>\n",
       "      <td>33.0</td>\n",
       "      <td>12.0</td>\n",
       "      <td>33.0</td>\n",
       "      <td>2.0</td>\n",
       "      <td>0.0</td>\n",
       "      <td>0.0</td>\n",
       "      <td>0.0</td>\n",
       "      <td>0.0</td>\n",
       "      <td>9.45</td>\n",
       "      <td>...</td>\n",
       "      <td>0.0</td>\n",
       "      <td>0.0</td>\n",
       "      <td>0.0</td>\n",
       "      <td>0.0</td>\n",
       "      <td>0.0</td>\n",
       "      <td>2.246</td>\n",
       "      <td>3.240</td>\n",
       "      <td>3.497</td>\n",
       "      <td>1.0</td>\n",
       "      <td>1.0</td>\n",
       "    </tr>\n",
       "    <tr>\n",
       "      <th>2</th>\n",
       "      <td>23.0</td>\n",
       "      <td>30.0</td>\n",
       "      <td>9.0</td>\n",
       "      <td>30.0</td>\n",
       "      <td>1.0</td>\n",
       "      <td>2.0</td>\n",
       "      <td>0.0</td>\n",
       "      <td>0.0</td>\n",
       "      <td>0.0</td>\n",
       "      <td>6.30</td>\n",
       "      <td>...</td>\n",
       "      <td>0.0</td>\n",
       "      <td>0.0</td>\n",
       "      <td>0.0</td>\n",
       "      <td>1.0</td>\n",
       "      <td>0.0</td>\n",
       "      <td>1.841</td>\n",
       "      <td>3.240</td>\n",
       "      <td>3.401</td>\n",
       "      <td>3.0</td>\n",
       "      <td>0.0</td>\n",
       "    </tr>\n",
       "    <tr>\n",
       "      <th>3</th>\n",
       "      <td>38.0</td>\n",
       "      <td>35.0</td>\n",
       "      <td>5.0</td>\n",
       "      <td>76.0</td>\n",
       "      <td>2.0</td>\n",
       "      <td>10.0</td>\n",
       "      <td>1.0</td>\n",
       "      <td>1.0</td>\n",
       "      <td>1.0</td>\n",
       "      <td>6.05</td>\n",
       "      <td>...</td>\n",
       "      <td>1.0</td>\n",
       "      <td>1.0</td>\n",
       "      <td>1.0</td>\n",
       "      <td>1.0</td>\n",
       "      <td>1.0</td>\n",
       "      <td>1.800</td>\n",
       "      <td>3.807</td>\n",
       "      <td>4.331</td>\n",
       "      <td>4.0</td>\n",
       "      <td>0.0</td>\n",
       "    </tr>\n",
       "    <tr>\n",
       "      <th>4</th>\n",
       "      <td>7.0</td>\n",
       "      <td>35.0</td>\n",
       "      <td>14.0</td>\n",
       "      <td>80.0</td>\n",
       "      <td>2.0</td>\n",
       "      <td>15.0</td>\n",
       "      <td>0.0</td>\n",
       "      <td>1.0</td>\n",
       "      <td>0.0</td>\n",
       "      <td>7.10</td>\n",
       "      <td>...</td>\n",
       "      <td>0.0</td>\n",
       "      <td>0.0</td>\n",
       "      <td>1.0</td>\n",
       "      <td>1.0</td>\n",
       "      <td>0.0</td>\n",
       "      <td>1.960</td>\n",
       "      <td>3.091</td>\n",
       "      <td>4.382</td>\n",
       "      <td>3.0</td>\n",
       "      <td>0.0</td>\n",
       "    </tr>\n",
       "    <tr>\n",
       "      <th>5</th>\n",
       "      <td>68.0</td>\n",
       "      <td>52.0</td>\n",
       "      <td>17.0</td>\n",
       "      <td>120.0</td>\n",
       "      <td>1.0</td>\n",
       "      <td>24.0</td>\n",
       "      <td>0.0</td>\n",
       "      <td>1.0</td>\n",
       "      <td>0.0</td>\n",
       "      <td>20.70</td>\n",
       "      <td>...</td>\n",
       "      <td>0.0</td>\n",
       "      <td>0.0</td>\n",
       "      <td>0.0</td>\n",
       "      <td>0.0</td>\n",
       "      <td>0.0</td>\n",
       "      <td>3.030</td>\n",
       "      <td>3.240</td>\n",
       "      <td>4.787</td>\n",
       "      <td>1.0</td>\n",
       "      <td>0.0</td>\n",
       "    </tr>\n",
       "    <tr>\n",
       "      <th>6</th>\n",
       "      <td>42.0</td>\n",
       "      <td>40.0</td>\n",
       "      <td>7.0</td>\n",
       "      <td>37.0</td>\n",
       "      <td>2.0</td>\n",
       "      <td>8.0</td>\n",
       "      <td>1.0</td>\n",
       "      <td>1.0</td>\n",
       "      <td>1.0</td>\n",
       "      <td>8.25</td>\n",
       "      <td>...</td>\n",
       "      <td>0.0</td>\n",
       "      <td>1.0</td>\n",
       "      <td>1.0</td>\n",
       "      <td>1.0</td>\n",
       "      <td>1.0</td>\n",
       "      <td>2.110</td>\n",
       "      <td>3.157</td>\n",
       "      <td>3.611</td>\n",
       "      <td>4.0</td>\n",
       "      <td>0.0</td>\n",
       "    </tr>\n",
       "    <tr>\n",
       "      <th>7</th>\n",
       "      <td>9.0</td>\n",
       "      <td>21.0</td>\n",
       "      <td>1.0</td>\n",
       "      <td>17.0</td>\n",
       "      <td>2.0</td>\n",
       "      <td>2.0</td>\n",
       "      <td>0.0</td>\n",
       "      <td>0.0</td>\n",
       "      <td>0.0</td>\n",
       "      <td>2.90</td>\n",
       "      <td>...</td>\n",
       "      <td>0.0</td>\n",
       "      <td>0.0</td>\n",
       "      <td>0.0</td>\n",
       "      <td>0.0</td>\n",
       "      <td>0.0</td>\n",
       "      <td>1.065</td>\n",
       "      <td>3.240</td>\n",
       "      <td>2.833</td>\n",
       "      <td>1.0</td>\n",
       "      <td>0.0</td>\n",
       "    </tr>\n",
       "    <tr>\n",
       "      <th>8</th>\n",
       "      <td>35.0</td>\n",
       "      <td>50.0</td>\n",
       "      <td>26.0</td>\n",
       "      <td>140.0</td>\n",
       "      <td>2.0</td>\n",
       "      <td>21.0</td>\n",
       "      <td>0.0</td>\n",
       "      <td>1.0</td>\n",
       "      <td>0.0</td>\n",
       "      <td>6.50</td>\n",
       "      <td>...</td>\n",
       "      <td>0.0</td>\n",
       "      <td>0.0</td>\n",
       "      <td>1.0</td>\n",
       "      <td>1.0</td>\n",
       "      <td>0.0</td>\n",
       "      <td>1.872</td>\n",
       "      <td>3.314</td>\n",
       "      <td>4.942</td>\n",
       "      <td>3.0</td>\n",
       "      <td>0.0</td>\n",
       "    </tr>\n",
       "    <tr>\n",
       "      <th>9</th>\n",
       "      <td>49.0</td>\n",
       "      <td>51.0</td>\n",
       "      <td>27.0</td>\n",
       "      <td>63.0</td>\n",
       "      <td>4.0</td>\n",
       "      <td>19.0</td>\n",
       "      <td>0.0</td>\n",
       "      <td>1.0</td>\n",
       "      <td>0.0</td>\n",
       "      <td>12.85</td>\n",
       "      <td>...</td>\n",
       "      <td>0.0</td>\n",
       "      <td>1.0</td>\n",
       "      <td>1.0</td>\n",
       "      <td>0.0</td>\n",
       "      <td>1.0</td>\n",
       "      <td>2.553</td>\n",
       "      <td>3.248</td>\n",
       "      <td>4.143</td>\n",
       "      <td>2.0</td>\n",
       "      <td>0.0</td>\n",
       "    </tr>\n",
       "  </tbody>\n",
       "</table>\n",
       "<p>10 rows × 28 columns</p>\n",
       "</div>"
      ],
      "text/plain": [
       "   tenure   age  address  income   ed  employ  equip  callcard  wireless  \\\n",
       "0    11.0  33.0      7.0   136.0  5.0     5.0    0.0       1.0       1.0   \n",
       "1    33.0  33.0     12.0    33.0  2.0     0.0    0.0       0.0       0.0   \n",
       "2    23.0  30.0      9.0    30.0  1.0     2.0    0.0       0.0       0.0   \n",
       "3    38.0  35.0      5.0    76.0  2.0    10.0    1.0       1.0       1.0   \n",
       "4     7.0  35.0     14.0    80.0  2.0    15.0    0.0       1.0       0.0   \n",
       "5    68.0  52.0     17.0   120.0  1.0    24.0    0.0       1.0       0.0   \n",
       "6    42.0  40.0      7.0    37.0  2.0     8.0    1.0       1.0       1.0   \n",
       "7     9.0  21.0      1.0    17.0  2.0     2.0    0.0       0.0       0.0   \n",
       "8    35.0  50.0     26.0   140.0  2.0    21.0    0.0       1.0       0.0   \n",
       "9    49.0  51.0     27.0    63.0  4.0    19.0    0.0       1.0       0.0   \n",
       "\n",
       "   longmon  ...  pager  internet  callwait  confer  ebill  loglong  logtoll  \\\n",
       "0     4.40  ...    1.0       0.0       1.0     1.0    0.0    1.482    3.033   \n",
       "1     9.45  ...    0.0       0.0       0.0     0.0    0.0    2.246    3.240   \n",
       "2     6.30  ...    0.0       0.0       0.0     1.0    0.0    1.841    3.240   \n",
       "3     6.05  ...    1.0       1.0       1.0     1.0    1.0    1.800    3.807   \n",
       "4     7.10  ...    0.0       0.0       1.0     1.0    0.0    1.960    3.091   \n",
       "5    20.70  ...    0.0       0.0       0.0     0.0    0.0    3.030    3.240   \n",
       "6     8.25  ...    0.0       1.0       1.0     1.0    1.0    2.110    3.157   \n",
       "7     2.90  ...    0.0       0.0       0.0     0.0    0.0    1.065    3.240   \n",
       "8     6.50  ...    0.0       0.0       1.0     1.0    0.0    1.872    3.314   \n",
       "9    12.85  ...    0.0       1.0       1.0     0.0    1.0    2.553    3.248   \n",
       "\n",
       "   lninc  custcat  churn  \n",
       "0  4.913      4.0    1.0  \n",
       "1  3.497      1.0    1.0  \n",
       "2  3.401      3.0    0.0  \n",
       "3  4.331      4.0    0.0  \n",
       "4  4.382      3.0    0.0  \n",
       "5  4.787      1.0    0.0  \n",
       "6  3.611      4.0    0.0  \n",
       "7  2.833      1.0    0.0  \n",
       "8  4.942      3.0    0.0  \n",
       "9  4.143      2.0    0.0  \n",
       "\n",
       "[10 rows x 28 columns]"
      ]
     },
     "execution_count": 10,
     "metadata": {},
     "output_type": "execute_result"
    }
   ],
   "source": [
    "# Reading data\n",
    "data=pd.read_csv('ChurnData.csv')\n",
    "data.head(10)"
   ]
  },
  {
   "cell_type": "code",
   "execution_count": 11,
   "metadata": {},
   "outputs": [
    {
     "data": {
      "text/html": [
       "<div>\n",
       "<style scoped>\n",
       "    .dataframe tbody tr th:only-of-type {\n",
       "        vertical-align: middle;\n",
       "    }\n",
       "\n",
       "    .dataframe tbody tr th {\n",
       "        vertical-align: top;\n",
       "    }\n",
       "\n",
       "    .dataframe thead th {\n",
       "        text-align: right;\n",
       "    }\n",
       "</style>\n",
       "<table border=\"1\" class=\"dataframe\">\n",
       "  <thead>\n",
       "    <tr style=\"text-align: right;\">\n",
       "      <th></th>\n",
       "      <th>tenure</th>\n",
       "      <th>age</th>\n",
       "      <th>address</th>\n",
       "      <th>income</th>\n",
       "      <th>ed</th>\n",
       "      <th>employ</th>\n",
       "      <th>equip</th>\n",
       "      <th>callcard</th>\n",
       "      <th>wireless</th>\n",
       "      <th>longmon</th>\n",
       "      <th>...</th>\n",
       "      <th>pager</th>\n",
       "      <th>internet</th>\n",
       "      <th>callwait</th>\n",
       "      <th>confer</th>\n",
       "      <th>ebill</th>\n",
       "      <th>loglong</th>\n",
       "      <th>logtoll</th>\n",
       "      <th>lninc</th>\n",
       "      <th>custcat</th>\n",
       "      <th>churn</th>\n",
       "    </tr>\n",
       "  </thead>\n",
       "  <tbody>\n",
       "    <tr>\n",
       "      <th>0</th>\n",
       "      <td>11.0</td>\n",
       "      <td>33.0</td>\n",
       "      <td>7.0</td>\n",
       "      <td>136.0</td>\n",
       "      <td>5.0</td>\n",
       "      <td>5.0</td>\n",
       "      <td>0.0</td>\n",
       "      <td>1.0</td>\n",
       "      <td>1.0</td>\n",
       "      <td>4.40</td>\n",
       "      <td>...</td>\n",
       "      <td>1.0</td>\n",
       "      <td>0.0</td>\n",
       "      <td>1.0</td>\n",
       "      <td>1.0</td>\n",
       "      <td>0.0</td>\n",
       "      <td>1.482</td>\n",
       "      <td>3.033</td>\n",
       "      <td>4.913</td>\n",
       "      <td>4.0</td>\n",
       "      <td>1</td>\n",
       "    </tr>\n",
       "    <tr>\n",
       "      <th>1</th>\n",
       "      <td>33.0</td>\n",
       "      <td>33.0</td>\n",
       "      <td>12.0</td>\n",
       "      <td>33.0</td>\n",
       "      <td>2.0</td>\n",
       "      <td>0.0</td>\n",
       "      <td>0.0</td>\n",
       "      <td>0.0</td>\n",
       "      <td>0.0</td>\n",
       "      <td>9.45</td>\n",
       "      <td>...</td>\n",
       "      <td>0.0</td>\n",
       "      <td>0.0</td>\n",
       "      <td>0.0</td>\n",
       "      <td>0.0</td>\n",
       "      <td>0.0</td>\n",
       "      <td>2.246</td>\n",
       "      <td>3.240</td>\n",
       "      <td>3.497</td>\n",
       "      <td>1.0</td>\n",
       "      <td>1</td>\n",
       "    </tr>\n",
       "    <tr>\n",
       "      <th>2</th>\n",
       "      <td>23.0</td>\n",
       "      <td>30.0</td>\n",
       "      <td>9.0</td>\n",
       "      <td>30.0</td>\n",
       "      <td>1.0</td>\n",
       "      <td>2.0</td>\n",
       "      <td>0.0</td>\n",
       "      <td>0.0</td>\n",
       "      <td>0.0</td>\n",
       "      <td>6.30</td>\n",
       "      <td>...</td>\n",
       "      <td>0.0</td>\n",
       "      <td>0.0</td>\n",
       "      <td>0.0</td>\n",
       "      <td>1.0</td>\n",
       "      <td>0.0</td>\n",
       "      <td>1.841</td>\n",
       "      <td>3.240</td>\n",
       "      <td>3.401</td>\n",
       "      <td>3.0</td>\n",
       "      <td>0</td>\n",
       "    </tr>\n",
       "    <tr>\n",
       "      <th>3</th>\n",
       "      <td>38.0</td>\n",
       "      <td>35.0</td>\n",
       "      <td>5.0</td>\n",
       "      <td>76.0</td>\n",
       "      <td>2.0</td>\n",
       "      <td>10.0</td>\n",
       "      <td>1.0</td>\n",
       "      <td>1.0</td>\n",
       "      <td>1.0</td>\n",
       "      <td>6.05</td>\n",
       "      <td>...</td>\n",
       "      <td>1.0</td>\n",
       "      <td>1.0</td>\n",
       "      <td>1.0</td>\n",
       "      <td>1.0</td>\n",
       "      <td>1.0</td>\n",
       "      <td>1.800</td>\n",
       "      <td>3.807</td>\n",
       "      <td>4.331</td>\n",
       "      <td>4.0</td>\n",
       "      <td>0</td>\n",
       "    </tr>\n",
       "    <tr>\n",
       "      <th>4</th>\n",
       "      <td>7.0</td>\n",
       "      <td>35.0</td>\n",
       "      <td>14.0</td>\n",
       "      <td>80.0</td>\n",
       "      <td>2.0</td>\n",
       "      <td>15.0</td>\n",
       "      <td>0.0</td>\n",
       "      <td>1.0</td>\n",
       "      <td>0.0</td>\n",
       "      <td>7.10</td>\n",
       "      <td>...</td>\n",
       "      <td>0.0</td>\n",
       "      <td>0.0</td>\n",
       "      <td>1.0</td>\n",
       "      <td>1.0</td>\n",
       "      <td>0.0</td>\n",
       "      <td>1.960</td>\n",
       "      <td>3.091</td>\n",
       "      <td>4.382</td>\n",
       "      <td>3.0</td>\n",
       "      <td>0</td>\n",
       "    </tr>\n",
       "  </tbody>\n",
       "</table>\n",
       "<p>5 rows × 28 columns</p>\n",
       "</div>"
      ],
      "text/plain": [
       "   tenure   age  address  income   ed  employ  equip  callcard  wireless  \\\n",
       "0    11.0  33.0      7.0   136.0  5.0     5.0    0.0       1.0       1.0   \n",
       "1    33.0  33.0     12.0    33.0  2.0     0.0    0.0       0.0       0.0   \n",
       "2    23.0  30.0      9.0    30.0  1.0     2.0    0.0       0.0       0.0   \n",
       "3    38.0  35.0      5.0    76.0  2.0    10.0    1.0       1.0       1.0   \n",
       "4     7.0  35.0     14.0    80.0  2.0    15.0    0.0       1.0       0.0   \n",
       "\n",
       "   longmon  ...  pager  internet  callwait  confer  ebill  loglong  logtoll  \\\n",
       "0     4.40  ...    1.0       0.0       1.0     1.0    0.0    1.482    3.033   \n",
       "1     9.45  ...    0.0       0.0       0.0     0.0    0.0    2.246    3.240   \n",
       "2     6.30  ...    0.0       0.0       0.0     1.0    0.0    1.841    3.240   \n",
       "3     6.05  ...    1.0       1.0       1.0     1.0    1.0    1.800    3.807   \n",
       "4     7.10  ...    0.0       0.0       1.0     1.0    0.0    1.960    3.091   \n",
       "\n",
       "   lninc  custcat  churn  \n",
       "0  4.913      4.0      1  \n",
       "1  3.497      1.0      1  \n",
       "2  3.401      3.0      0  \n",
       "3  4.331      4.0      0  \n",
       "4  4.382      3.0      0  \n",
       "\n",
       "[5 rows x 28 columns]"
      ]
     },
     "execution_count": 11,
     "metadata": {},
     "output_type": "execute_result"
    }
   ],
   "source": [
    "# Converting churn column from float to int\n",
    "data['churn']=data['churn'].astype('int')\n",
    "data.head(5)"
   ]
  },
  {
   "cell_type": "code",
   "execution_count": 12,
   "metadata": {},
   "outputs": [
    {
     "data": {
      "text/plain": [
       "(200, 28)"
      ]
     },
     "execution_count": 12,
     "metadata": {},
     "output_type": "execute_result"
    }
   ],
   "source": [
    "# SHAPE OF DIMENSION\n",
    "data.shape"
   ]
  },
  {
   "cell_type": "code",
   "execution_count": 13,
   "metadata": {},
   "outputs": [],
   "source": [
    "# DATAFRAME TO ARRAY\n",
    "x=np.asanyarray(data[['tenure','age','ed']])\n",
    "y=np.asanyarray(data['churn'])"
   ]
  },
  {
   "cell_type": "code",
   "execution_count": 14,
   "metadata": {},
   "outputs": [],
   "source": [
    "# # preprocessing\n",
    "# scaler=preprocessing.MinMaxScaler()\n",
    "# x=scaler.fit(x)"
   ]
  },
  {
   "cell_type": "code",
   "execution_count": 15,
   "metadata": {},
   "outputs": [],
   "source": [
    "# TRAIN - TEST - SPLIT\n",
    "x_train, x_test, y_train, y_test = train_test_split(x, y, test_size=0.3, random_state=11)"
   ]
  },
  {
   "cell_type": "code",
   "execution_count": 16,
   "metadata": {},
   "outputs": [
    {
     "data": {
      "text/plain": [
       "LogisticRegression(C=1.0, class_weight=None, dual=False, fit_intercept=True,\n",
       "                   intercept_scaling=1, l1_ratio=None, max_iter=100,\n",
       "                   multi_class='auto', n_jobs=None, penalty='l2',\n",
       "                   random_state=None, solver='lbfgs', tol=0.0001, verbose=0,\n",
       "                   warm_start=False)"
      ]
     },
     "execution_count": 16,
     "metadata": {},
     "output_type": "execute_result"
    }
   ],
   "source": [
    "# TRAINING THE MODEL\n",
    "lr=linear_model.LogisticRegression()\n",
    "lr.fit(x_train,y_train)"
   ]
  },
  {
   "cell_type": "code",
   "execution_count": 17,
   "metadata": {},
   "outputs": [
    {
     "name": "stdout",
     "output_type": "stream",
     "text": [
      "[0 0 0 1 0 0 0 0 0 0 0 0 0 0 0 0 0 0 0 1 0 0 0 1 0 0 1 0 0 0 0 0 1 0 0 0 0\n",
      " 1 0 1 0 0 0 0 0 0 1 0 0 0 0 0 1 0 0 0 0 0 0 0]\n",
      "0.75\n",
      "              precision    recall  f1-score   support\n",
      "\n",
      "           0       0.73      0.97      0.83        38\n",
      "           1       0.89      0.36      0.52        22\n",
      "\n",
      "    accuracy                           0.75        60\n",
      "   macro avg       0.81      0.67      0.67        60\n",
      "weighted avg       0.79      0.75      0.72        60\n",
      "\n"
     ]
    }
   ],
   "source": [
    "# ACTUAL \n",
    "predict_actual=lr.predict(x_test)  \n",
    "accuracy_actual=lr.score(x_test,y_test)\n",
    "classification_report_actual=classification_report(y_test,predict_actual)\n",
    "print(predict_actual,accuracy_actual,classification_report_actual,sep='\\n')"
   ]
  },
  {
   "cell_type": "code",
   "execution_count": 18,
   "metadata": {},
   "outputs": [
    {
     "name": "stdout",
     "output_type": "stream",
     "text": [
      "[-0.1652293650905401, -1.3855175544992746, -1.8175637158828177, 0.3053844934546842, -0.3620243417653427, -1.6695237325438823, -1.5292662110152855, -1.8601608103769536, -1.5971547968559148, -3.060491036147829, -0.3276606615964298, -1.8184898002101715, -4.615441292760215, -3.21641519449136, -0.007840860074615263, -0.2625261494402745, -0.7085855779419451, -3.7959630768687993, -1.2419579210076774, 0.5945207728194132, -1.0699161733343279, -1.3575737026625632, -0.2795698230974458, 0.4771643116375631, -1.8530281000393978, -2.336743544739496, 0.5825198906522066, -2.210140275074913, -0.04237915990384178, -1.41621548002046, -2.631097235254503, -0.15047440923885935, 0.0069140957770655875, -2.439446763263922, -0.7872870321319575, -0.9644732844895277, -0.0798461530778557, 0.19078210595730793, -0.30228186041977934, 0.15459043643127446, -1.4372885510100866, -0.337009183273419, -1.0858591430038325, -2.400966375932397, -3.6333427573384953, -1.21750520415838, 0.7356026654811069, -1.4815246118369285, -0.3556045134331408, -0.6155072139490784, -1.8411145277023482, -3.2643314133300305, 0.2973256987897751, -3.123060497643924, -0.3597212205957522, -0.45949574577539065, -1.3724159683444013, -0.2530903179331283, -1.7651671471968098, -2.6285321845944423]\n"
     ]
    },
    {
     "data": {
      "image/png": "[encoded data removed]",
      "text/plain": [
       "<Figure size 432x288 with 1 Axes>"
      ]
     },
     "metadata": {
      "needs_background": "light"
     },
     "output_type": "display_data"
    }
   ],
   "source": [
    "# LET MY PROJECT IS RECALL-ORIENTED.\n",
    "# AIM HERE TO SELECT BEST VALUE FOR DECISION_TRESHOLD TO  GET HIGH RECALL.\n",
    "# SO TO SELECT GOOD DECISION_TEESHOLD WE PLOT PRECISION-RECALL-VARIOUS_DECISION_TEESHOLD CURVE.\n",
    "decision_function=lr.decision_function(x_test)\n",
    "predict_desired=[]\n",
    "lst_precision=[]\n",
    "lst_recall=[]\n",
    "lst_decision_treshold=list(decision_function)\n",
    "for i in range(len(decision_function)):\n",
    "    decision_treshold=decision_function[i]\n",
    "    for j in range(len(decision_function)):\n",
    "        if decision_function[j]<decision_treshold:\n",
    "            predict_desired.append(0)\n",
    "        else:\n",
    "            predict_desired.append(1)\n",
    "    recall=recall_score(y_test,predict_desired)\n",
    "    precision=precision_score(y_test,predict_desired)\n",
    "    lst_recall.append(recall)\n",
    "    lst_precision.append(precision)\n",
    "    predict_desired=[]\n",
    "        \n",
    "# PLOT THE CURVE\n",
    "plt.scatter(lst_decision_treshold,lst_recall,label='RECALL')\n",
    "plt.scatter(lst_decision_treshold,lst_precision,label='PRECISION')\n",
    "plt.legend()\n",
    "plt.xlabel('TRESHOLD --->')\n",
    "\n",
    "print(lst_decision_treshold)"
   ]
  },
  {
   "cell_type": "code",
   "execution_count": 19,
   "metadata": {},
   "outputs": [],
   "source": [
    "# PLOTING PRECISION-RECALL CURVE USING SKLEARN MODULE\n",
    "from sklearn.metrics import precision_recall_curve\n",
    "precision,recall,treshold=precision_recall_curve(y_test,decision_function)"
   ]
  },
  {
   "cell_type": "code",
   "execution_count": 11,
   "metadata": {},
   "outputs": [
    {
     "data": {
      "text/plain": [
       "Text(0.5, 1.0, 'Precision-Recall Curve')"
      ]
     },
     "execution_count": 11,
     "metadata": {},
     "output_type": "execute_result"
    },
    {
     "data": {
      "image/png": "[encoded data removed]",
      "text/plain": [
       "<Figure size 432x288 with 1 Axes>"
      ]
     },
     "metadata": {
      "needs_background": "light"
     },
     "output_type": "display_data"
    }
   ],
   "source": [
    "# PLOT THE GRAPH\n",
    "plt.plot(treshold,precision[:-1],c='r',label='PRECISION')\n",
    "plt.plot(treshold,recall[:-1],c='b',label='RECALL')\n",
    "plt.grid()\n",
    "plt.legend()\n",
    "plt.title('Precision-Recall Curve')"
   ]
  },
  {
   "cell_type": "code",
   "execution_count": 12,
   "metadata": {},
   "outputs": [
    {
     "name": "stdout",
     "output_type": "stream",
     "text": [
      "[-1.81756372 -1.76516715 -1.66952373 -1.5971548  -1.52926621 -1.48152461\n",
      " -1.43728855 -1.41621548 -1.38551755 -1.37241597 -1.3575737  -1.24195792\n",
      " -1.2175052  -1.08585914 -1.06991617 -0.96447328 -0.78728703 -0.70858558\n",
      " -0.61550721 -0.45949575 -0.36202434 -0.35972122 -0.35560451 -0.33700918\n",
      " -0.32766066 -0.30228186 -0.27956982 -0.26252615 -0.25309032 -0.16522937\n",
      " -0.15047441 -0.07984615 -0.04237916 -0.00784086  0.0069141   0.15459044\n",
      "  0.19078211  0.2973257   0.30538449  0.47716431  0.58251989  0.59452077\n",
      "  0.73560267]\n",
      "(43,)\n"
     ]
    }
   ],
   "source": [
    "# Tresholds obtained from sklearn\n",
    "print(treshold)\n",
    "print(treshold.shape)\n"
   ]
  },
  {
   "cell_type": "code",
   "execution_count": 13,
   "metadata": {},
   "outputs": [
    {
     "name": "stdout",
     "output_type": "stream",
     "text": [
      "[-0.1652293650905401, -1.3855175544992746, -1.8175637158828177, 0.3053844934546842, -0.3620243417653427, -1.6695237325438823, -1.5292662110152855, -1.8601608103769536, -1.5971547968559148, -3.060491036147829, -0.3276606615964298, -1.8184898002101715, -4.615441292760215, -3.21641519449136, -0.007840860074615263, -0.2625261494402745, -0.7085855779419451, -3.7959630768687993, -1.2419579210076774, 0.5945207728194132, -1.0699161733343279, -1.3575737026625632, -0.2795698230974458, 0.4771643116375631, -1.8530281000393978, -2.336743544739496, 0.5825198906522066, -2.210140275074913, -0.04237915990384178, -1.41621548002046, -2.631097235254503, -0.15047440923885935, 0.0069140957770655875, -2.439446763263922, -0.7872870321319575, -0.9644732844895277, -0.0798461530778557, 0.19078210595730793, -0.30228186041977934, 0.15459043643127446, -1.4372885510100866, -0.337009183273419, -1.0858591430038325, -2.400966375932397, -3.6333427573384953, -1.21750520415838, 0.7356026654811069, -1.4815246118369285, -0.3556045134331408, -0.6155072139490784, -1.8411145277023482, -3.2643314133300305, 0.2973256987897751, -3.123060497643924, -0.3597212205957522, -0.45949574577539065, -1.3724159683444013, -0.2530903179331283, -1.7651671471968098, -2.6285321845944423]\n",
      "60\n"
     ]
    }
   ],
   "source": [
    "# Tresholds obtained from desi code\n",
    "print(lst_decision_treshold)\n",
    "print(len(lst_decision_treshold))"
   ]
  },
  {
   "cell_type": "code",
   "execution_count": 17,
   "metadata": {},
   "outputs": [
    {
     "name": "stdout",
     "output_type": "stream",
     "text": [
      "60\n",
      "[0.7857142857142857, 0.5142857142857142, 0.5116279069767442, 0.8, 0.6086956521739131, 0.5121951219512195, 0.5384615384615384, 0.46808510638297873, 0.525, 0.4074074074074074, 0.6842105263157895, 0.5, 0.36666666666666664, 0.39285714285714285, 0.8, 0.75, 0.5384615384615384, 0.3728813559322034, 0.5, 1.0, 0.5172413793103449, 0.5151515151515151, 0.7058823529411765, 1.0, 0.4782608695652174, 0.4489795918367347, 1.0, 0.4583333333333333, 0.8181818181818182, 0.5, 0.41509433962264153, 0.7692307692307693, 0.8888888888888888, 0.43137254901960786, 0.5185185185185185, 0.5357142857142857, 0.8333333333333334, 0.8571428571428571, 0.6666666666666666, 0.875, 0.5135135135135135, 0.65, 0.5, 0.44, 0.3793103448275862, 0.4838709677419355, 1.0, 0.5263157894736842, 0.6190476190476191, 0.56, 0.4888888888888889, 0.38596491228070173, 0.8333333333333334, 0.4, 0.5909090909090909, 0.5833333333333334, 0.5, 0.7333333333333333, 0.5, 0.4230769230769231]\n"
     ]
    }
   ],
   "source": [
    "# PRECISION LIST FROM DESI CODE\n",
    "print(len(lst_precision))\n",
    "print(lst_precision)"
   ]
  },
  {
   "cell_type": "code",
   "execution_count": 19,
   "metadata": {},
   "outputs": [
    {
     "name": "stdout",
     "output_type": "stream",
     "text": [
      "(44,)\n",
      "[0.51162791 0.5        0.51219512 0.525      0.53846154 0.52631579\n",
      " 0.51351351 0.5        0.51428571 0.5        0.51515152 0.5\n",
      " 0.48387097 0.5        0.51724138 0.53571429 0.51851852 0.53846154\n",
      " 0.56       0.58333333 0.60869565 0.59090909 0.61904762 0.65\n",
      " 0.68421053 0.66666667 0.70588235 0.75       0.73333333 0.78571429\n",
      " 0.76923077 0.83333333 0.81818182 0.8        0.88888889 0.875\n",
      " 0.85714286 0.83333333 0.8        1.         1.         1.\n",
      " 1.         1.        ]\n"
     ]
    }
   ],
   "source": [
    "# PRECISION LIST FROM SKLEARN PRODUCED\n",
    "print(precision.shape)\n",
    "print(precision)"
   ]
  },
  {
   "cell_type": "code",
   "execution_count": 21,
   "metadata": {},
   "outputs": [
    {
     "name": "stdout",
     "output_type": "stream",
     "text": [
      "60\n",
      "[0.5, 0.8181818181818182, 1.0, 0.18181818181818182, 0.6363636363636364, 0.9545454545454546, 0.9545454545454546, 1.0, 0.9545454545454546, 1.0, 0.5909090909090909, 1.0, 1.0, 1.0, 0.36363636363636365, 0.5454545454545454, 0.6363636363636364, 1.0, 0.7272727272727273, 0.09090909090909091, 0.6818181818181818, 0.7727272727272727, 0.5454545454545454, 0.18181818181818182, 1.0, 1.0, 0.13636363636363635, 1.0, 0.4090909090909091, 0.8181818181818182, 1.0, 0.45454545454545453, 0.36363636363636365, 1.0, 0.6363636363636364, 0.6818181818181818, 0.45454545454545453, 0.2727272727272727, 0.5454545454545454, 0.3181818181818182, 0.8636363636363636, 0.5909090909090909, 0.6818181818181818, 1.0, 1.0, 0.6818181818181818, 0.045454545454545456, 0.9090909090909091, 0.5909090909090909, 0.6363636363636364, 1.0, 1.0, 0.22727272727272727, 1.0, 0.5909090909090909, 0.6363636363636364, 0.7727272727272727, 0.5, 0.9545454545454546, 1.0]\n"
     ]
    }
   ],
   "source": [
    "# RECALL FROM DESI CODE\n",
    "print(len(lst_recall))\n",
    "print(lst_recall)"
   ]
  },
  {
   "cell_type": "code",
   "execution_count": 22,
   "metadata": {},
   "outputs": [
    {
     "name": "stdout",
     "output_type": "stream",
     "text": [
      "(44,)\n",
      "[1.         0.95454545 0.95454545 0.95454545 0.95454545 0.90909091\n",
      " 0.86363636 0.81818182 0.81818182 0.77272727 0.77272727 0.72727273\n",
      " 0.68181818 0.68181818 0.68181818 0.68181818 0.63636364 0.63636364\n",
      " 0.63636364 0.63636364 0.63636364 0.59090909 0.59090909 0.59090909\n",
      " 0.59090909 0.54545455 0.54545455 0.54545455 0.5        0.5\n",
      " 0.45454545 0.45454545 0.40909091 0.36363636 0.36363636 0.31818182\n",
      " 0.27272727 0.22727273 0.18181818 0.18181818 0.13636364 0.09090909\n",
      " 0.04545455 0.        ]\n"
     ]
    }
   ],
   "source": [
    "# RECALL FROM SKLEARN PRODUCED\n",
    "print(recall.shape)\n",
    "print(recall)"
   ]
  },
  {
   "cell_type": "code",
   "execution_count": 51,
   "metadata": {},
   "outputs": [
    {
     "data": {
      "text/plain": [
       "<matplotlib.legend.Legend at 0x6e6d760888>"
      ]
     },
     "execution_count": 51,
     "metadata": {},
     "output_type": "execute_result"
    },
    {
     "data": {
      "image/png": "[encoded data removed]",
      "text/plain": [
       "<Figure size 432x288 with 1 Axes>"
      ]
     },
     "metadata": {
      "needs_background": "light"
     },
     "output_type": "display_data"
    }
   ],
   "source": [
    "# FROM SKLEARN IMPORT ROC_CURVE\n",
    "from sklearn.metrics import roc_curve\n",
    "fpr,tpr,treshold_roc=roc_curve(y_test,decision_function)\n",
    "\n",
    "# PLOT THE GRAPH\n",
    "plt.plot(fpr,tpr,linewidth=0.9,c='b',label='CURVE_OF_ACTUAL_CLASSIFIER')\n",
    "plt.xlabel('False Positive Rate --->')\n",
    "plt.ylabel('True Positive Rate --->')\n",
    "plt.title('ROC_CURVE_FOR_DIFFERENT_TRESHOLD')\n",
    "plt.plot([0,1],[0,1],'r--',label='CURVE_OF_RANDOM_CLASSIFIER')\n",
    "plt.grid()\n",
    "plt.legend()"
   ]
  },
  {
   "cell_type": "code",
   "execution_count": 50,
   "metadata": {},
   "outputs": [
    {
     "name": "stdout",
     "output_type": "stream",
     "text": [
      "0.8002392344497608\n"
     ]
    }
   ],
   "source": [
    "# AREA UNDER ROC CURVE\n",
    "from sklearn.metrics import roc_auc_score\n",
    "score=roc_auc_score(y_test,decision_function)\n",
    "print(score)"
   ]
  },
  {
   "cell_type": "code",
   "execution_count": null,
   "metadata": {},
   "outputs": [],
   "source": []
  }
 ],
 "metadata": {
  "kernelspec": {
   "display_name": "Python 3",
   "language": "python",
   "name": "python3"
  },
  "language_info": {
   "codemirror_mode": {
    "name": "ipython",
    "version": 3
   },
   "file_extension": ".py",
   "mimetype": "text/x-python",
   "name": "python",
   "nbconvert_exporter": "python",
   "pygments_lexer": "ipython3",
   "version": "3.7.7"
  }
 },
 "nbformat": 4,
 "nbformat_minor": 4
}
