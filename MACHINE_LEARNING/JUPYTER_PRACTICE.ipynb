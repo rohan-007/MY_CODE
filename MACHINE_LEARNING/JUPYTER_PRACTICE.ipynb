{
 "cells": [
  {
   "cell_type": "code",
   "execution_count": 2,
   "metadata": {},
   "outputs": [],
   "source": [
    "# importing some necessary modules for MACHINE LEARNING\n",
    "import pandas as pd               # Dealing with input training set data\n",
    "import matplotlib.pyplot as plt   # Dealing with ploting the training set and output  (pyplot is class in matplotlib module)\n",
    "import numpy as np                # Converting data set to matrix form\n",
    "from sklearn import linear_model  # Helps to find parameters of hypothesis { MACHINE LEARNING ALGORITHM }"
   ]
  },
  {
   "cell_type": "code",
   "execution_count": 3,
   "metadata": {},
   "outputs": [
    {
     "data": {
      "text/html": [
       "<div>\n",
       "<style scoped>\n",
       "    .dataframe tbody tr th:only-of-type {\n",
       "        vertical-align: middle;\n",
       "    }\n",
       "\n",
       "    .dataframe tbody tr th {\n",
       "        vertical-align: top;\n",
       "    }\n",
       "\n",
       "    .dataframe thead th {\n",
       "        text-align: right;\n",
       "    }\n",
       "</style>\n",
       "<table border=\"1\" class=\"dataframe\">\n",
       "  <thead>\n",
       "    <tr style=\"text-align: right;\">\n",
       "      <th></th>\n",
       "      <th>SIZE</th>\n",
       "      <th>#ROOMS</th>\n",
       "      <th>PRICE</th>\n",
       "    </tr>\n",
       "  </thead>\n",
       "  <tbody>\n",
       "    <tr>\n",
       "      <th>0</th>\n",
       "      <td>1600</td>\n",
       "      <td>3</td>\n",
       "      <td>329900</td>\n",
       "    </tr>\n",
       "    <tr>\n",
       "      <th>1</th>\n",
       "      <td>2400</td>\n",
       "      <td>3</td>\n",
       "      <td>369000</td>\n",
       "    </tr>\n",
       "    <tr>\n",
       "      <th>2</th>\n",
       "      <td>1416</td>\n",
       "      <td>2</td>\n",
       "      <td>232000</td>\n",
       "    </tr>\n",
       "    <tr>\n",
       "      <th>3</th>\n",
       "      <td>3000</td>\n",
       "      <td>4</td>\n",
       "      <td>539900</td>\n",
       "    </tr>\n",
       "    <tr>\n",
       "      <th>4</th>\n",
       "      <td>1985</td>\n",
       "      <td>4</td>\n",
       "      <td>299900</td>\n",
       "    </tr>\n",
       "  </tbody>\n",
       "</table>\n",
       "</div>"
      ],
      "text/plain": [
       "   SIZE  #ROOMS   PRICE\n",
       "0  1600       3  329900\n",
       "1  2400       3  369000\n",
       "2  1416       2  232000\n",
       "3  3000       4  539900\n",
       "4  1985       4  299900"
      ]
     },
     "execution_count": 3,
     "metadata": {},
     "output_type": "execute_result"
    }
   ],
   "source": [
    "# Training Set\n",
    "data=pd.read_csv('house_prices_updated.csv')  # Creating data object for read_csv() class { Stores data from file to data variable }\n",
    "data.head()                           # object.method()  { To display data present in data object }"
   ]
  },
  {
   "cell_type": "code",
   "execution_count": null,
   "metadata": {},
   "outputs": [],
   "source": []
  },
  {
   "cell_type": "code",
   "execution_count": 4,
   "metadata": {},
   "outputs": [
    {
     "data": {
      "text/html": [
       "<div>\n",
       "<style scoped>\n",
       "    .dataframe tbody tr th:only-of-type {\n",
       "        vertical-align: middle;\n",
       "    }\n",
       "\n",
       "    .dataframe tbody tr th {\n",
       "        vertical-align: top;\n",
       "    }\n",
       "\n",
       "    .dataframe thead th {\n",
       "        text-align: right;\n",
       "    }\n",
       "</style>\n",
       "<table border=\"1\" class=\"dataframe\">\n",
       "  <thead>\n",
       "    <tr style=\"text-align: right;\">\n",
       "      <th></th>\n",
       "      <th>SIZE</th>\n",
       "      <th>PRICE</th>\n",
       "    </tr>\n",
       "  </thead>\n",
       "  <tbody>\n",
       "    <tr>\n",
       "      <th>0</th>\n",
       "      <td>1600</td>\n",
       "      <td>329900</td>\n",
       "    </tr>\n",
       "    <tr>\n",
       "      <th>1</th>\n",
       "      <td>2400</td>\n",
       "      <td>369000</td>\n",
       "    </tr>\n",
       "    <tr>\n",
       "      <th>2</th>\n",
       "      <td>1416</td>\n",
       "      <td>232000</td>\n",
       "    </tr>\n",
       "    <tr>\n",
       "      <th>3</th>\n",
       "      <td>3000</td>\n",
       "      <td>539900</td>\n",
       "    </tr>\n",
       "    <tr>\n",
       "      <th>4</th>\n",
       "      <td>1985</td>\n",
       "      <td>299900</td>\n",
       "    </tr>\n",
       "    <tr>\n",
       "      <th>5</th>\n",
       "      <td>1534</td>\n",
       "      <td>314900</td>\n",
       "    </tr>\n",
       "    <tr>\n",
       "      <th>6</th>\n",
       "      <td>1427</td>\n",
       "      <td>198999</td>\n",
       "    </tr>\n",
       "    <tr>\n",
       "      <th>7</th>\n",
       "      <td>1380</td>\n",
       "      <td>212000</td>\n",
       "    </tr>\n",
       "    <tr>\n",
       "      <th>8</th>\n",
       "      <td>1494</td>\n",
       "      <td>242500</td>\n",
       "    </tr>\n",
       "    <tr>\n",
       "      <th>9</th>\n",
       "      <td>1940</td>\n",
       "      <td>239999</td>\n",
       "    </tr>\n",
       "    <tr>\n",
       "      <th>10</th>\n",
       "      <td>2000</td>\n",
       "      <td>347000</td>\n",
       "    </tr>\n",
       "    <tr>\n",
       "      <th>11</th>\n",
       "      <td>1890</td>\n",
       "      <td>329999</td>\n",
       "    </tr>\n",
       "    <tr>\n",
       "      <th>12</th>\n",
       "      <td>4478</td>\n",
       "      <td>699900</td>\n",
       "    </tr>\n",
       "    <tr>\n",
       "      <th>13</th>\n",
       "      <td>1268</td>\n",
       "      <td>259900</td>\n",
       "    </tr>\n",
       "    <tr>\n",
       "      <th>14</th>\n",
       "      <td>2300</td>\n",
       "      <td>449900</td>\n",
       "    </tr>\n",
       "    <tr>\n",
       "      <th>15</th>\n",
       "      <td>1320</td>\n",
       "      <td>299900</td>\n",
       "    </tr>\n",
       "    <tr>\n",
       "      <th>16</th>\n",
       "      <td>1236</td>\n",
       "      <td>199900</td>\n",
       "    </tr>\n",
       "    <tr>\n",
       "      <th>17</th>\n",
       "      <td>2609</td>\n",
       "      <td>499998</td>\n",
       "    </tr>\n",
       "    <tr>\n",
       "      <th>18</th>\n",
       "      <td>3031</td>\n",
       "      <td>599000</td>\n",
       "    </tr>\n",
       "    <tr>\n",
       "      <th>19</th>\n",
       "      <td>1767</td>\n",
       "      <td>252900</td>\n",
       "    </tr>\n",
       "  </tbody>\n",
       "</table>\n",
       "</div>"
      ],
      "text/plain": [
       "    SIZE   PRICE\n",
       "0   1600  329900\n",
       "1   2400  369000\n",
       "2   1416  232000\n",
       "3   3000  539900\n",
       "4   1985  299900\n",
       "5   1534  314900\n",
       "6   1427  198999\n",
       "7   1380  212000\n",
       "8   1494  242500\n",
       "9   1940  239999\n",
       "10  2000  347000\n",
       "11  1890  329999\n",
       "12  4478  699900\n",
       "13  1268  259900\n",
       "14  2300  449900\n",
       "15  1320  299900\n",
       "16  1236  199900\n",
       "17  2609  499998\n",
       "18  3031  599000\n",
       "19  1767  252900"
      ]
     },
     "execution_count": 4,
     "metadata": {},
     "output_type": "execute_result"
    }
   ],
   "source": [
    "# TRAINING SET\n",
    "rdata=data[['SIZE','PRICE']]    # Selecting particular features from data object to rdata { new object}\n",
    "rdata.head(20)                     # Display data present in rdata object"
   ]
  },
  {
   "cell_type": "code",
   "execution_count": 5,
   "metadata": {},
   "outputs": [
    {
     "data": {
      "image/png": "[encoded data removed]",
      "text/plain": [
       "<Figure size 432x288 with 2 Axes>"
      ]
     },
     "metadata": {
      "needs_background": "light"
     },
     "output_type": "display_data"
    }
   ],
   "source": [
    "# TRAINING SET\n",
    "graph=rdata[['SIZE','PRICE']]    # Selecting variables for ploting\n",
    "graph.hist()                     # object.method()  for ploting histogram graph\n",
    "plt.show()                       # Show the created graph"
   ]
  },
  {
   "cell_type": "code",
   "execution_count": 6,
   "metadata": {},
   "outputs": [
    {
     "name": "stdout",
     "output_type": "stream",
     "text": [
      "    SIZE   PRICE\n",
      "0   1600  329900\n",
      "2   1416  232000\n",
      "4   1985  299900\n",
      "5   1534  314900\n",
      "7   1380  212000\n",
      "10  2000  347000\n",
      "11  1890  329999\n",
      "12  4478  699900\n",
      "13  1268  259900\n",
      "14  2300  449900\n",
      "18  3031  599000\n",
      "19  1767  252900\n",
      "20  1888  255000\n",
      "22  1962  259900\n",
      "23  3890  573900\n",
      "24  1100  249900\n",
      "25  1458  464500\n",
      "26  2526  469000\n",
      "28  2637  299900\n",
      "30  1000  169900\n",
      "31  2040  314900\n",
      "34  1437  249900\n",
      "35  1239  229900\n",
      "36  2132  345000\n",
      "37  4215  549000\n",
      "38  2162  287000\n",
      "39  1664  368500\n",
      "40  2238  329900\n",
      "41  2567  314000\n",
      "43   852  179900\n",
      "45  1203  239500\n",
      "    SIZE   PRICE\n",
      "1   2400  369000\n",
      "3   3000  539900\n",
      "6   1427  198999\n",
      "8   1494  242500\n",
      "9   1940  239999\n",
      "15  1320  299900\n",
      "16  1236  199900\n",
      "17  2609  499998\n",
      "21  1604  242900\n",
      "27  2200  475000\n",
      "29  1839  349900\n",
      "32  3137  579900\n",
      "33  1811  285900\n",
      "42  1200  299000\n",
      "44  1852  299900\n"
     ]
    }
   ],
   "source": [
    "# TRAINING SET -- SELCTING 80% TARINING SET AND 20% TEST SET\n",
    "ran=np.random.rand(len(data))<0.8\n",
    "train=rdata[ran]\n",
    "test=rdata[~ran]\n",
    "print(train,test,sep='\\n')"
   ]
  },
  {
   "cell_type": "code",
   "execution_count": 7,
   "metadata": {},
   "outputs": [
    {
     "data": {
      "image/png": "[encoded data removed]",
      "text/plain": [
       "<Figure size 432x288 with 1 Axes>"
      ]
     },
     "metadata": {
      "needs_background": "light"
     },
     "output_type": "display_data"
    }
   ],
   "source": [
    "# TRAINING SET\n",
    "plt.scatter(train.SIZE,train.PRICE,color='red')   # Selecting variables for scatter\n",
    "plt.xlabel('SIZE ----->')                         # labeling x axis\n",
    "plt.ylabel('PRICE ---->')                         # labeling y axis\n",
    "plt.show()                                        # show the created graph\n"
   ]
  },
  {
   "cell_type": "code",
   "execution_count": 8,
   "metadata": {},
   "outputs": [
    {
     "name": "stdout",
     "output_type": "stream",
     "text": [
      "[[124.31831703]]  [85879.80354523]\n"
     ]
    }
   ],
   "source": [
    "# Algorithm implementation using sk learn\n",
    "reg=linear_model.LinearRegression()        # Object reg for class LinearRegression\n",
    "train_x=np.asanyarray(train[['SIZE']])     # Matrix form\n",
    "train_y=np.asanyarray(train[['PRICE']])    # Matrix form\n",
    "reg.fit(train_x,train_y)\n",
    "print(reg.coef_,reg.intercept_,sep='  ')            # Printing theta 0 { intercept}  and theta 1 { slope} i.e parameters of hypothesis"
   ]
  },
  {
   "cell_type": "code",
   "execution_count": 12,
   "metadata": {},
   "outputs": [
    {
     "data": {
      "image/png": "[encoded data removed]",
      "text/plain": [
       "<Figure size 432x288 with 1 Axes>"
      ]
     },
     "metadata": {
      "needs_background": "light"
     },
     "output_type": "display_data"
    }
   ],
   "source": [
    "# ploting output\n",
    "plt.scatter(train.SIZE, train.PRICE,  color='blue')                         # Input plot\n",
    "plt.plot(train.SIZE, reg.coef_[0][0]*train_x + reg.intercept_[0], '-r')     # Output plot\n",
    "plt.xlabel('SIZE')\n",
    "plt.ylabel('PRICE')\n",
    "plt.show()\n"
   ]
  },
  {
   "cell_type": "code",
   "execution_count": 10,
   "metadata": {},
   "outputs": [
    {
     "name": "stdout",
     "output_type": "stream",
     "text": [
      "[[364104.19705513]]\n"
     ]
    }
   ],
   "source": [
    "print(reg.intercept_+2238*reg.coef_)"
   ]
  },
  {
   "cell_type": "code",
   "execution_count": null,
   "metadata": {},
   "outputs": [],
   "source": []
  },
  {
   "cell_type": "code",
   "execution_count": null,
   "metadata": {},
   "outputs": [],
   "source": []
  },
  {
   "cell_type": "code",
   "execution_count": null,
   "metadata": {},
   "outputs": [],
   "source": []
  },
  {
   "cell_type": "code",
   "execution_count": null,
   "metadata": {},
   "outputs": [],
   "source": []
  },
  {
   "cell_type": "code",
   "execution_count": null,
   "metadata": {},
   "outputs": [],
   "source": []
  }
 ],
 "metadata": {
  "kernelspec": {
   "display_name": "Python 3",
   "language": "python",
   "name": "python3"
  },
  "language_info": {
   "codemirror_mode": {
    "name": "ipython",
    "version": 3
   },
   "file_extension": ".py",
   "mimetype": "text/x-python",
   "name": "python",
   "nbconvert_exporter": "python",
   "pygments_lexer": "ipython3",
   "version": "3.7.7"
  }
 },
 "nbformat": 4,
 "nbformat_minor": 4
}
